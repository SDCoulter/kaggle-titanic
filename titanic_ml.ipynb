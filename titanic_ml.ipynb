{
 "cells": [
  {
   "cell_type": "code",
   "execution_count": 6,
   "metadata": {},
   "outputs": [],
   "source": [
    "import numpy as np\n",
    "import pandas as pd\n",
    "import os\n",
    "\n",
    "# TUTORIAL: https://www.kaggle.com/alexisbcook/titanic-tutorial\n",
    "\n",
    "# Import model type - Random Forest Model.\n",
    "from sklearn.ensemble import RandomForestClassifier"
   ]
  },
  {
   "cell_type": "code",
   "execution_count": 2,
   "metadata": {},
   "outputs": [],
   "source": [
    "# Read in the CSV data files as DataFrames.\n",
    "train_data = pd.read_csv('train.csv')\n",
    "test_data = pd.read_csv('test.csv')"
   ]
  },
  {
   "cell_type": "code",
   "execution_count": 4,
   "metadata": {},
   "outputs": [
    {
     "name": "stdout",
     "output_type": "stream",
     "text": [
      "% of women that survived: 74.2%.\n"
     ]
    }
   ],
   "source": [
    "# From the gender_submission, let's test the hypothesis - did all women survive?\n",
    "women = train_data.loc[train_data['Sex'] == 'female']['Survived']\n",
    "# Get the rate of women that survived (sum of 1's) vs the number of women (length of the return).\n",
    "rate_women = sum(women)/len(women)\n",
    "\n",
    "print(f'% of women that survived: {round(rate_women*100,1)}%.')"
   ]
  },
  {
   "cell_type": "code",
   "execution_count": 5,
   "metadata": {},
   "outputs": [
    {
     "name": "stdout",
     "output_type": "stream",
     "text": [
      "% of men that survived: 74.2%.\n"
     ]
    }
   ],
   "source": [
    "# And let's see that same idea for men.\n",
    "men = train_data.loc[train_data['Sex'] == 'male']['Survived']\n",
    "rate_men = sum(men)/len(men)\n",
    "\n",
    "print(f'% of men that survived: {round(rate_women*100,1)}%.')"
   ]
  },
  {
   "cell_type": "code",
   "execution_count": 9,
   "metadata": {},
   "outputs": [
    {
     "name": "stdout",
     "output_type": "stream",
     "text": [
      "Submission file successfully saved.\n"
     ]
    }
   ],
   "source": [
    "# Store the binary survival column in the training data as a variable.\n",
    "y = train_data['Survived']\n",
    "\n",
    "# Store the features (or columns) of the training data we wish to use.\n",
    "features = ['Pclass', 'Sex', 'SibSp', 'Parch']\n",
    "# Use get_dummies: Convert categorical variable into dummy/indicator variables.\n",
    "# Creates a DF of the data with the values in the columns and 0's for missing ones.\n",
    "# Also binaries the female/male Sex column - 1 for True and 0 for False.\n",
    "X = pd.get_dummies(train_data[features])\n",
    "# Create a test DF from the train data in the same way.\n",
    "X_test = pd.get_dummies(test_data[features])\n",
    "\n",
    "# Create the model with the imported Random Forest Model (sklearn).\n",
    "# n_estimators is the number of trees, max_ depth is how deep the trees\n",
    "# go before returning a prediction of survivability.\n",
    "# https://scikit-learn.org/stable/modules/generated/sklearn.ensemble.RandomForestClassifier.html\n",
    "# https://en.wikipedia.org/wiki/Random_forest\n",
    "model = RandomForestClassifier(n_estimators=100, max_depth=5, random_state=1)\n",
    "# Traing the model using the training set (X) and the results (y).\n",
    "model.fit(X, y)\n",
    "# Pass the test data into the model and predict the survivors - save the predictions.\n",
    "predictions = model.predict(X_test)\n",
    "\n",
    "# Save the output to a DataFrame and that DF to a CSV file.\n",
    "output = pd.DataFrame({'PassengerId': test_data.PassengerId, 'Survived': predictions})\n",
    "output.to_csv('my_submission.csv', index=False)\n",
    "print(\"Submission file successfully saved.\")"
   ]
  },
  {
   "cell_type": "code",
   "execution_count": null,
   "metadata": {},
   "outputs": [],
   "source": []
  },
  {
   "cell_type": "code",
   "execution_count": null,
   "metadata": {},
   "outputs": [],
   "source": []
  }
 ],
 "metadata": {
  "kernelspec": {
   "display_name": "PythonData",
   "language": "python",
   "name": "pythondata"
  },
  "language_info": {
   "codemirror_mode": {
    "name": "ipython",
    "version": 3
   },
   "file_extension": ".py",
   "mimetype": "text/x-python",
   "name": "python",
   "nbconvert_exporter": "python",
   "pygments_lexer": "ipython3",
   "version": "3.7.9"
  }
 },
 "nbformat": 4,
 "nbformat_minor": 4
}
